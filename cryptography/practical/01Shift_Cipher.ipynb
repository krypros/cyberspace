{
 "cells": [
  {
   "cell_type": "code",
   "execution_count": 1,
   "id": "348fe13a",
   "metadata": {
    "ExecuteTime": {
     "end_time": "2022-10-13T13:12:52.114632Z",
     "start_time": "2022-10-13T13:12:52.104710Z"
    }
   },
   "outputs": [],
   "source": [
    "## Shift Cipher Encoder\n",
    "import string\n",
    "\n",
    "# 创建凯撒密码字典\n",
    "def create_shift_substitutions(n):\n",
    "    encoding = {}\n",
    "    decoding = {}\n",
    "    alphabet_size = len(string.ascii_uppercase)  # 26个大写字母\n",
    "    for i in range(alphabet_size):\n",
    "        letter = string.ascii_uppercase[i]\n",
    "        subst_letter = string.ascii_uppercase[(i+n)%alphabet_size] # 移位n取余\n",
    "        encoding[letter] = subst_letter\n",
    "        decoding[subst_letter] = letter\n",
    "    return encoding, decoding"
   ]
  },
  {
   "cell_type": "code",
   "execution_count": 7,
   "id": "b985d51b",
   "metadata": {
    "ExecuteTime": {
     "end_time": "2022-10-13T13:27:48.951742Z",
     "start_time": "2022-10-13T13:27:48.941631Z"
    }
   },
   "outputs": [],
   "source": [
    "def encode(message, subst):\n",
    "    return \"\".join(subst.get(x, x) for x in message))"
   ]
  },
  {
   "cell_type": "code",
   "execution_count": 19,
   "id": "98f3fef8",
   "metadata": {
    "ExecuteTime": {
     "end_time": "2022-10-13T13:37:04.234099Z",
     "start_time": "2022-10-13T13:37:04.229106Z"
    }
   },
   "outputs": [],
   "source": [
    "def printable_substitution(subst):\n",
    "    mapping = sorted(subst.items())\n",
    "    alphabet_line = \"\".join(letter for letter, _ in mapping)\n",
    "    cipher_line = \"\".join(subst_letter for _, subst_letter in mapping)\n",
    "#     print(cipher_line)\n",
    "    return \"{}\\n{}\".format(alphabet_line, cipher_line)"
   ]
  },
  {
   "cell_type": "code",
   "execution_count": 20,
   "id": "2f756aa5",
   "metadata": {
    "ExecuteTime": {
     "end_time": "2022-10-13T13:37:04.455031Z",
     "start_time": "2022-10-13T13:37:04.451035Z"
    }
   },
   "outputs": [
    {
     "name": "stdout",
     "output_type": "stream",
     "text": [
      "ABCDEFGHIJKLMNOPQRSTUVWXYZ\n",
      "BCDEFGHIJKLMNOPQRSTUVWXYZA\n"
     ]
    }
   ],
   "source": [
    "encoding, decoding = create_shift_substitutions(1)\n",
    "print(printable_substitution(encoding))"
   ]
  },
  {
   "cell_type": "code",
   "execution_count": 21,
   "id": "f35be7af",
   "metadata": {
    "ExecuteTime": {
     "end_time": "2022-10-13T13:38:23.425051Z",
     "start_time": "2022-10-13T13:38:23.419452Z"
    }
   },
   "outputs": [
    {
     "data": {
      "text/plain": [
       "'UIJT'"
      ]
     },
     "execution_count": 21,
     "metadata": {},
     "output_type": "execute_result"
    }
   ],
   "source": [
    "encode(\"THIS\", encoding)"
   ]
  },
  {
   "cell_type": "code",
   "execution_count": 23,
   "id": "ecceb19f",
   "metadata": {
    "ExecuteTime": {
     "end_time": "2022-10-13T13:38:47.244165Z",
     "start_time": "2022-10-13T13:38:47.238165Z"
    }
   },
   "outputs": [
    {
     "data": {
      "text/plain": [
       "'THIS'"
      ]
     },
     "execution_count": 23,
     "metadata": {},
     "output_type": "execute_result"
    }
   ],
   "source": [
    "encode(\"UIJT\", decoding)"
   ]
  },
  {
   "cell_type": "code",
   "execution_count": null,
   "id": "b25e636f",
   "metadata": {},
   "outputs": [],
   "source": []
  }
 ],
 "metadata": {
  "kernelspec": {
   "display_name": "Python 3",
   "language": "python",
   "name": "python3"
  },
  "language_info": {
   "codemirror_mode": {
    "name": "ipython",
    "version": 3
   },
   "file_extension": ".py",
   "mimetype": "text/x-python",
   "name": "python",
   "nbconvert_exporter": "python",
   "pygments_lexer": "ipython3",
   "version": "3.7.0"
  },
  "toc": {
   "base_numbering": 1,
   "nav_menu": {},
   "number_sections": true,
   "sideBar": true,
   "skip_h1_title": false,
   "title_cell": "Table of Contents",
   "title_sidebar": "Contents",
   "toc_cell": false,
   "toc_position": {},
   "toc_section_display": true,
   "toc_window_display": false
  }
 },
 "nbformat": 4,
 "nbformat_minor": 5
}
