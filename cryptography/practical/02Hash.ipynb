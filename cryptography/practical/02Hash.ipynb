{
 "cells": [
  {
   "cell_type": "code",
   "execution_count": 1,
   "id": "55a8bfe2",
   "metadata": {
    "ExecuteTime": {
     "end_time": "2022-10-15T07:10:46.105159Z",
     "start_time": "2022-10-15T07:10:46.087140Z"
    }
   },
   "outputs": [
    {
     "data": {
      "text/plain": [
       "'e3b56a299bfab49b5e64c8a01fe3aca9'"
      ]
     },
     "execution_count": 1,
     "metadata": {},
     "output_type": "execute_result"
    }
   ],
   "source": [
    "import hashlib\n",
    "md5hasher = hashlib.md5(b\"jiang\")\n",
    "md5hasher.hexdigest()"
   ]
  },
  {
   "cell_type": "code",
   "execution_count": 2,
   "id": "248c8a4b",
   "metadata": {
    "ExecuteTime": {
     "end_time": "2022-10-15T07:10:46.244348Z",
     "start_time": "2022-10-15T07:10:46.241348Z"
    }
   },
   "outputs": [
    {
     "data": {
      "text/plain": [
       "'a99b14565611b3f7580f36d3c80a9bda'"
      ]
     },
     "execution_count": 2,
     "metadata": {},
     "output_type": "execute_result"
    }
   ],
   "source": [
    "# Hash Update  16 bytes (128 bits)\n",
    "md5hasher.update(b\"test\")\n",
    "md5hasher.hexdigest()"
   ]
  },
  {
   "cell_type": "code",
   "execution_count": 3,
   "id": "fb32b543",
   "metadata": {
    "ExecuteTime": {
     "end_time": "2022-10-15T07:10:55.757299Z",
     "start_time": "2022-10-15T07:10:55.746298Z"
    }
   },
   "outputs": [
    {
     "data": {
      "text/plain": [
       "'4e7b08952acae50abec9e06cac9ae2c424c73473'"
      ]
     },
     "execution_count": 3,
     "metadata": {},
     "output_type": "execute_result"
    }
   ],
   "source": [
    "# SHA-1’s output is 20 bytes (160 bits).\n",
    "hashlib.sha1(b'jiang').hexdigest()"
   ]
  },
  {
   "cell_type": "code",
   "execution_count": 4,
   "id": "df86a0b1",
   "metadata": {
    "ExecuteTime": {
     "end_time": "2022-10-15T07:11:03.622145Z",
     "start_time": "2022-10-15T07:11:03.613136Z"
    }
   },
   "outputs": [
    {
     "data": {
      "text/plain": [
       "'0f31618ba0cf91b57d27828e837d85bbfc6604fdedb5eb85a8e52562c2c8ac6b'"
      ]
     },
     "execution_count": 4,
     "metadata": {},
     "output_type": "execute_result"
    }
   ],
   "source": [
    "# SHA-256’s output is 32 bytes (256 bits)\n",
    "hashlib.sha256(b'jiang').hexdigest()"
   ]
  },
  {
   "cell_type": "code",
   "execution_count": 20,
   "id": "d0a78870",
   "metadata": {
    "ExecuteTime": {
     "end_time": "2022-10-15T09:15:17.199188Z",
     "start_time": "2022-10-15T09:15:17.152140Z"
    }
   },
   "outputs": [
    {
     "data": {
      "text/plain": [
       "b'\\x9f\\x93\\x92Nr\\x05\\xad]\\xeb\\x06\\xcaj\\x95\\xc5Q\\xda\\xf9\\xcf)\\xc9\\xd2m\\xf7\\xfev\\x95O\\xb5;\\x96\\xf40'"
      ]
     },
     "execution_count": 20,
     "metadata": {},
     "output_type": "execute_result"
    }
   ],
   "source": [
    "# Scrypt Generate\n",
    "import os\n",
    "from cryptography.hazmat.primitives.kdf.scrypt import Scrypt\n",
    "from cryptography.hazmat.backends import default_backend\n",
    "\n",
    "salt = os.urandom(16)\n",
    "\n",
    "# length: key的长度(字节)\n",
    "# r,n,p 影响计算所需时间和所需内存\n",
    "# 对于更敏感的数据，可以设置n为2**20\n",
    "kdf = Scrypt(salt=salt, length=32,n=2**14, r=8, p=1, backend=default_backend())  \n",
    "key = kdf.derive(b\"my great password\")\n",
    "key"
   ]
  },
  {
   "cell_type": "code",
   "execution_count": 21,
   "id": "0c3cfbbb",
   "metadata": {
    "ExecuteTime": {
     "end_time": "2022-10-15T09:15:17.370890Z",
     "start_time": "2022-10-15T09:15:17.317880Z"
    }
   },
   "outputs": [],
   "source": [
    "# Scrypt Verify \n",
    "kdf = Scrypt(salt=salt, length=32, n=2**14, r=8, p=1, backend=default_backend())\n",
    "kdf.verify(b\"my great password\", key)"
   ]
  },
  {
   "cell_type": "code",
   "execution_count": 22,
   "id": "84b0d7e5",
   "metadata": {
    "ExecuteTime": {
     "end_time": "2022-10-15T09:19:20.910250Z",
     "start_time": "2022-10-15T09:19:20.896241Z"
    }
   },
   "outputs": [],
   "source": [
    "# 破解密码\n",
    "def generate(alphabet, max_len):\n",
    "    if max_len <= 0: \n",
    "        return\n",
    "    for c in alphabet:\n",
    "        yield c\n",
    "    for c in alphabet:\n",
    "        for next in generate(alphabet, max_len-1):\n",
    "            yield c + next"
   ]
  },
  {
   "cell_type": "code",
   "execution_count": 26,
   "id": "d44efe8a",
   "metadata": {
    "ExecuteTime": {
     "end_time": "2022-10-15T09:22:09.651095Z",
     "start_time": "2022-10-15T09:22:09.634092Z"
    }
   },
   "outputs": [
    {
     "data": {
      "text/plain": [
       "'abcdefghijklmnopqrstuvwxyz'"
      ]
     },
     "execution_count": 26,
     "metadata": {},
     "output_type": "execute_result"
    }
   ],
   "source": []
  },
  {
   "cell_type": "code",
   "execution_count": null,
   "id": "b9078958",
   "metadata": {},
   "outputs": [],
   "source": []
  }
 ],
 "metadata": {
  "kernelspec": {
   "display_name": "Python 3",
   "language": "python",
   "name": "python3"
  },
  "language_info": {
   "codemirror_mode": {
    "name": "ipython",
    "version": 3
   },
   "file_extension": ".py",
   "mimetype": "text/x-python",
   "name": "python",
   "nbconvert_exporter": "python",
   "pygments_lexer": "ipython3",
   "version": "3.7.0"
  },
  "toc": {
   "base_numbering": 1,
   "nav_menu": {},
   "number_sections": true,
   "sideBar": true,
   "skip_h1_title": false,
   "title_cell": "Table of Contents",
   "title_sidebar": "Contents",
   "toc_cell": false,
   "toc_position": {},
   "toc_section_display": true,
   "toc_window_display": false
  }
 },
 "nbformat": 4,
 "nbformat_minor": 5
}
